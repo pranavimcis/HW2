{
 "cells": [
  {
   "cell_type": "markdown",
   "id": "fa00d39d",
   "metadata": {},
   "source": [
    "### Q 1 \n",
    "Task: Read the paper and write a 4-7 sentence (about a paragraph) summary. State in your own words what you learned, what\n",
    "expanding your knowledge of the topic and what you found interesting about the information you received. Please include the\n",
    "major points of the paper, and any weaknesses the authors point out with their research."
   ]
  },
  {
   "cell_type": "markdown",
   "id": "de0288e7",
   "metadata": {},
   "source": [
    "* It depicts a study of fatal pedestrian accidents that occurred in Kansas and the USA. We discover in this research article that male pedestrians make up a bigger share of all pedestrians. In several years, there were no pedestrian fatalities involving women, indicating that women have fewer opportunities in the workplace. Additionally, we see that there was a share decline in auto journeys between 1999 and 2000, indicating that less people were driving their own vehicles, which increased traffic on the roadways. We discovered that the majority of pedestrian fatalities were people over 65. Inadequate vision, physical limitations, a loss of reflection, etc. are the causes of senior pedestrian fatalities.The paper's main argument was that data analysis could prevent pedestrian deaths. Author attempts to address Kanas's issues with pedestrian fatalities in this essay (USA)."
   ]
  },
  {
   "cell_type": "markdown",
   "id": "61100c8f",
   "metadata": {},
   "source": [
    "###  2\n",
    "Task: Answer the following questions:"
   ]
  },
  {
   "cell_type": "markdown",
   "id": "fec56abe",
   "metadata": {},
   "source": [
    "(a) What time of day is most common for pedestrian fatalities in Kansas (over all years)?\n",
    "\n",
    "* When the time of day is taken into account, it is shown that the key period for fatal pedestrian crashes is between 6 p.m. and 6 a.m. The most fatal collisions occur between midnight and six in the morning, with approximately 24%, followed by nine in the evening and twelve in the afternoon, with approximately 23%. Approximately 12% of pedestrian fatalities occur between the hours of 6 and 9 in the morning."
   ]
  },
  {
   "cell_type": "markdown",
   "id": "5ecf786a",
   "metadata": {},
   "source": [
    "(b) How does this compare with the most common time of day for the US overall?\n",
    "\n",
    "* This time period only makes up 9% of all fatalities in the USA, which is the least amount of pedestrian deaths of any time period. Between 6 and 9 o'clock in the evening, there are the most pedestrian fatalities in the USA (25%). After 6 o'clock in the evening, visibility is reduced due to darkness, and there may also be more pedestrian accidents that result in fatalities."
   ]
  },
  {
   "cell_type": "markdown",
   "id": "ad28ffc3",
   "metadata": {},
   "source": [
    "(c) Looking at figure 11, would you say poor atmospheric conditions have a significant impact on pedestrial fatalities?\n",
    "\n",
    "* When atmospheric condition is taken into account, it is discovered that the majority of fatal crashes take place on clear days with no adverse conditions, contrary to what we would have expected given that poor atmospheric condition has always had a significant impact on pedestrian fatalities (see Figure 11 of the paper)."
   ]
  },
  {
   "cell_type": "markdown",
   "id": "e0a74ab1",
   "metadata": {},
   "source": [
    "(d) On page 392, the author states “For Kansas, speed limits between 30 mph and 40 mph account for 52% of total crashes (26%\n",
    "crashes for 30 mph and 26% for 35 mph or 40mph), …”. Why is this statement as written incorrect?\n",
    "\n",
    "\n",
    "* This can be explained by the fact that Kansas has a lot of rural roads with high speed limits and lax enforcement of the law, both of which may contribute to an increase in deadly pedestrian collisions."
   ]
  },
  {
   "cell_type": "markdown",
   "id": "6de33ec6",
   "metadata": {},
   "source": [
    "(e) The authors go on to explain the abnormally high number of fatalities at higher speeds with “… Kansas has lot of rural roads,where the speed limit is high and in rural roads, laws are not strictly enforced, all of which might lead to a larger number of fatal pedestrian crashes.”. Which of the suggested countermeasures would you think might successfully addres this issue? If you do not find anything sufficient, what might you recommend instead?\n",
    "\n",
    "* After a certain amount of time has passed, breakers should be fitted. People should also be made aware of the posted speed limits on the roads."
   ]
  },
  {
   "cell_type": "code",
   "execution_count": 1,
   "id": "ea2839fb",
   "metadata": {},
   "outputs": [],
   "source": [
    "import os\n",
    "import requests\n",
    "import zipfile\n",
    "import collections\n",
    "import pandas as pd\n",
    "import numpy as np"
   ]
  },
  {
   "cell_type": "code",
   "execution_count": 2,
   "id": "b2c03325",
   "metadata": {},
   "outputs": [],
   "source": [
    "all_df = pd.DataFrame()\n",
    "\n",
    "for i in range(1975, 2021, 5):\n",
    "    df = pd.read_csv(f\"accident_all_years/{i}_accident.csv\", encoding = 'ISO-8859-1',low_memory=False)\n",
    "    df1 = pd.read_csv(f\"person_all_years/{i}_PERSONE.csv\", encoding = 'ISO-8859-1',low_memory=False)\n",
    "    df1.drop([\"HARM_EV\"],inplace=True,axis=1)\n",
    "    df2 = pd.read_csv(f\"vehicle_all_years/{i}_vehicle.csv\", encoding = 'ISO-8859-1',low_memory=False)\n",
    "    df2.drop([\"HARM_EV\"],inplace=True,axis=1)\n",
    "    df3 = pd.merge(df,df1,on='ST_CASE',how=\"inner\").reset_index(drop=True)\n",
    "    all_df=pd.merge(df3,df2,on=\"ST_CASE\",how=\"inner\").reset_index(drop=True)"
   ]
  },
  {
   "cell_type": "code",
   "execution_count": 3,
   "id": "74abe7bb",
   "metadata": {},
   "outputs": [],
   "source": [
    "all_df=all_df[all_df[\"STATENAME_x\"] != \"KANAS\"]\n",
    "all_df=all_df[[\"AGE\",\"FATALS\",\"HARM_EV\",\"VSPD_LIM\",\"HOURNAME\",\"HOUR\",\"YEAR\"]]\n",
    "all_df=all_df[all_df[\"HARM_EV\"]==8]"
   ]
  },
  {
   "cell_type": "code",
   "execution_count": 4,
   "id": "ceef4d36",
   "metadata": {},
   "outputs": [],
   "source": [
    "all_df[\"VSPD_LIM\"].mask(all_df[\"VSPD_LIM\"]>=60,\"60 mph ot higher\",inplace=True)\n",
    "all_df[\"VSPD_LIM\"].mask(all_df[\"VSPD_LIM\"]==35,\"35 or 40 mph\",inplace=True)\n",
    "all_df[\"VSPD_LIM\"].mask(all_df[\"VSPD_LIM\"]==40,\"35 or 40 mph\",inplace=True)\n",
    "all_df[\"VSPD_LIM\"].mask(all_df[\"VSPD_LIM\"]==45,\"45 or 50 mph\",inplace=True)\n",
    "all_df[\"VSPD_LIM\"].mask(all_df[\"VSPD_LIM\"]==50,\"45 or 50 mph\",inplace=True)\n",
    "all_df[\"VSPD_LIM\"].mask(all_df[\"VSPD_LIM\"]==55,\"55 mph\",inplace=True)"
   ]
  },
  {
   "cell_type": "code",
   "execution_count": 5,
   "id": "12a427bf",
   "metadata": {},
   "outputs": [],
   "source": [
    "le=[0,5,10,15,20,25,30]\n",
    "for i in le:\n",
    "    all_df[\"VSPD_LIM\"].mask(all_df[\"VSPD_LIM\"]==i,\"30 mph or less\",inplace=True)"
   ]
  },
  {
   "cell_type": "code",
   "execution_count": 6,
   "id": "fc561c74",
   "metadata": {},
   "outputs": [],
   "source": [
    "ad=all_df.groupby(by=\"VSPD_LIM\").sum(\"FATALS\")\n",
    "speed=[\"30 mpd or less\",\"35 or 40 mph\",\"45 or 50 mph\",\"55 mph\",\"60 mph ot higher\"]\n",
    "total_fatals=ad[\"FATALS\"].sum()\n",
    "perenctarge_fatals=[]\n",
    "for i in range(len(speed)):\n",
    "    perenctarge_fatals.append(ad[\"FATALS\"][i]/total_fatals*100)"
   ]
  },
  {
   "cell_type": "code",
   "execution_count": 7,
   "id": "505f5509",
   "metadata": {},
   "outputs": [],
   "source": [
    "import matplotlib.pyplot as plt"
   ]
  },
  {
   "cell_type": "code",
   "execution_count": 8,
   "id": "b7606ebc",
   "metadata": {},
   "outputs": [],
   "source": [
    "import seaborn as sns"
   ]
  },
  {
   "cell_type": "markdown",
   "id": "91bab0b2",
   "metadata": {},
   "source": [
    "#### § Task: Recreate the graph (with actual FARS data) in Figure 15. You do not need to show the Kansas data."
   ]
  },
  {
   "cell_type": "code",
   "execution_count": 9,
   "id": "ffed3f3c",
   "metadata": {
    "scrolled": true
   },
   "outputs": [
    {
     "data": {
      "image/png": "[encoded data removed]",
      "text/plain": [
       "<Figure size 720x432 with 1 Axes>"
      ]
     },
     "metadata": {
      "needs_background": "light"
     },
     "output_type": "display_data"
    }
   ],
   "source": [
    "plt.figure(figsize=(10,6))\n",
    "plt.bar(x=speed,height=perenctarge_fatals,color=\"red\",alpha=0.5,)\n",
    "plt.xticks(rotation=90)\n",
    "plt.xlabel(\"SPEED\",fontsize=15)\n",
    "plt.ylabel(\"Percentage of fatal crashes\",fontsize=12)\n",
    "plt.title(\"Fatal pedestrian crashes based on speed limit\",fontsize=15)\n",
    "plt.show()"
   ]
  },
  {
   "cell_type": "markdown",
   "id": "d8308427",
   "metadata": {},
   "source": [
    "#### § Task: Recreate Figure 4 and Figure 9."
   ]
  },
  {
   "cell_type": "code",
   "execution_count": 10,
   "id": "de121a19",
   "metadata": {},
   "outputs": [],
   "source": [
    "age_grp=[]\n",
    "for i in all_df[\"AGE\"]:\n",
    "    if i<16:\n",
    "        age_grp.append(\"<16\")\n",
    "    elif i>=16 and i<=24:\n",
    "        age_grp.append(\"16-24\")\n",
    "    elif i>=25 and i<=34:\n",
    "        age_grp.append(\"25-34\")\n",
    "    elif i>=35 and i<=44:\n",
    "        age_grp.append(\"35-44\")\n",
    "    elif i>=45 and i<=54:\n",
    "        age_grp.append(\"45-54\")\n",
    "    elif i>=55 and i<=64:\n",
    "        age_grp.append(\"55-64\")\n",
    "    else:\n",
    "        age_grp.append(\"65+\")\n",
    "all_df[\"AGE_GRP\"]=age_grp\n",
    "ac=all_df.groupby(by=\"AGE_GRP\").sum()"
   ]
  },
  {
   "cell_type": "code",
   "execution_count": 11,
   "id": "e85e3078",
   "metadata": {},
   "outputs": [
    {
     "data": {
      "image/png": "[encoded data removed]",
      "text/plain": [
       "<Figure size 720x432 with 1 Axes>"
      ]
     },
     "metadata": {
      "needs_background": "light"
     },
     "output_type": "display_data"
    }
   ],
   "source": [
    "plt.figure(figsize=(10,6))\n",
    "plt.bar(x=ac.index,height=ac[\"FATALS\"])\n",
    "plt.xticks(rotation=45)\n",
    "plt.xlabel(\"Age Groups\")\n",
    "plt.ylabel(\"No of pedestrians killed\")\n",
    "plt.title(\"Pedestrian fatalities on age from 1975-2020\")\n",
    "plt.show()"
   ]
  },
  {
   "cell_type": "code",
   "execution_count": 12,
   "id": "be1acb7c",
   "metadata": {},
   "outputs": [],
   "source": [
    "time_grp=[]\n",
    "for i in all_df[\"HOUR\"]:\n",
    "    if i>=0 and i<=5:\n",
    "        time_grp.append(\"Midnight to 5:59 am\")\n",
    "    elif i>=6 and i<=8:\n",
    "        time_grp.append(\"6 am to 8:59 am\")\n",
    "    elif i>=9 and i<=14:\n",
    "        time_grp.append(\"9 am to 2:59 pm\")\n",
    "    elif i>=15 and i<=17:\n",
    "        time_grp.append(\"3 pm to 5:59 pm\")\n",
    "    elif i>=18 and i<=20:\n",
    "        time_grp.append(\"6pm to 8:59 pm\")\n",
    "    else:\n",
    "        time_grp.append(\"9 pm to 11:59 pm\")"
   ]
  },
  {
   "cell_type": "code",
   "execution_count": 13,
   "id": "666793a6",
   "metadata": {},
   "outputs": [],
   "source": [
    "all_df[\"Time_grp\"]=time_grp\n",
    "ae=all_df.groupby(by=\"Time_grp\").sum()"
   ]
  },
  {
   "cell_type": "code",
   "execution_count": 14,
   "id": "037277c8",
   "metadata": {
    "scrolled": true
   },
   "outputs": [
    {
     "data": {
      "image/png": "[encoded data removed]",
      "text/plain": [
       "<Figure size 720x432 with 1 Axes>"
      ]
     },
     "metadata": {
      "needs_background": "light"
     },
     "output_type": "display_data"
    }
   ],
   "source": [
    "plt.figure(figsize=(10,6))\n",
    "plt.bar(x=ae.index,height=ae[\"FATALS\"]/ae[\"FATALS\"].sum()*100,color='purple',alpha=0.5)\n",
    "plt.xticks(rotation=90)\n",
    "plt.xlabel(\"Time Groups\")\n",
    "plt.ylabel(\"Percentage of fatalitiess\")\n",
    "plt.title(\"Time distribution of pedestrian fatalities\")\n",
    "plt.show()"
   ]
  },
  {
   "cell_type": "markdown",
   "id": "5a292fa5",
   "metadata": {},
   "source": [
    "#### § Task: Take the data from Figure 4 and Figure 9 and combine them. What you will end up with is a grouping by age band, then\n",
    "by time of day. Your final graph will be able to answer questions about which age group is more or less likely to experience a\n",
    "pedestrian fatality during which time of day."
   ]
  },
  {
   "cell_type": "code",
   "execution_count": 15,
   "id": "b4fdb787",
   "metadata": {},
   "outputs": [
    {
     "data": {
      "image/png": "[encoded data removed]",
      "text/plain": [
       "<Figure size 720x360 with 1 Axes>"
      ]
     },
     "metadata": {
      "needs_background": "light"
     },
     "output_type": "display_data"
    }
   ],
   "source": [
    "plt.figure(figsize=(10,5\n",
    "                   ))\n",
    "sns.countplot(x=\"Time_grp\",hue=\"AGE_GRP\",data=all_df)\n",
    "plt.xticks(rotation=45)\n",
    "plt.xlabel(\"Pedestrian fatality\")\n",
    "plt.show()"
   ]
  },
  {
   "cell_type": "markdown",
   "id": "31d926f4",
   "metadata": {},
   "source": [
    "#### § Task: (Reshape the US dataset from HW1)"
   ]
  },
  {
   "cell_type": "code",
   "execution_count": 16,
   "id": "54d489a7",
   "metadata": {},
   "outputs": [
    {
     "data": {
      "text/html": [
       "<div>\n",
       "<style scoped>\n",
       "    .dataframe tbody tr th:only-of-type {\n",
       "        vertical-align: middle;\n",
       "    }\n",
       "\n",
       "    .dataframe tbody tr th {\n",
       "        vertical-align: top;\n",
       "    }\n",
       "\n",
       "    .dataframe thead th {\n",
       "        text-align: right;\n",
       "    }\n",
       "</style>\n",
       "<table border=\"1\" class=\"dataframe\">\n",
       "  <thead>\n",
       "    <tr style=\"text-align: right;\">\n",
       "      <th></th>\n",
       "      <th>STATE</th>\n",
       "      <th>MONTH</th>\n",
       "      <th>DAY</th>\n",
       "      <th>HOUR</th>\n",
       "      <th>PERSONS</th>\n",
       "      <th>MAN_COLL</th>\n",
       "      <th>LGT_COND</th>\n",
       "      <th>WEATHER</th>\n",
       "      <th>SCH_BUS</th>\n",
       "      <th>FATALS</th>\n",
       "      <th>DAY_WEEK</th>\n",
       "      <th>DRUNK_DR</th>\n",
       "      <th>HARM_EV</th>\n",
       "    </tr>\n",
       "  </thead>\n",
       "  <tbody>\n",
       "    <tr>\n",
       "      <th>91889</th>\n",
       "      <td>9</td>\n",
       "      <td>11</td>\n",
       "      <td>30</td>\n",
       "      <td>18</td>\n",
       "      <td>5</td>\n",
       "      <td>0</td>\n",
       "      <td>2</td>\n",
       "      <td>1</td>\n",
       "      <td>0.0</td>\n",
       "      <td>1</td>\n",
       "      <td>7</td>\n",
       "      <td>0</td>\n",
       "      <td>8</td>\n",
       "    </tr>\n",
       "    <tr>\n",
       "      <th>181716</th>\n",
       "      <td>26</td>\n",
       "      <td>10</td>\n",
       "      <td>28</td>\n",
       "      <td>7</td>\n",
       "      <td>2</td>\n",
       "      <td>0</td>\n",
       "      <td>2</td>\n",
       "      <td>2</td>\n",
       "      <td>0.0</td>\n",
       "      <td>1</td>\n",
       "      <td>7</td>\n",
       "      <td>0</td>\n",
       "      <td>8</td>\n",
       "    </tr>\n",
       "    <tr>\n",
       "      <th>236380</th>\n",
       "      <td>51</td>\n",
       "      <td>12</td>\n",
       "      <td>7</td>\n",
       "      <td>20</td>\n",
       "      <td>2</td>\n",
       "      <td>0</td>\n",
       "      <td>3</td>\n",
       "      <td>1</td>\n",
       "      <td>0.0</td>\n",
       "      <td>1</td>\n",
       "      <td>5</td>\n",
       "      <td>0</td>\n",
       "      <td>8</td>\n",
       "    </tr>\n",
       "    <tr>\n",
       "      <th>332805</th>\n",
       "      <td>44</td>\n",
       "      <td>12</td>\n",
       "      <td>9</td>\n",
       "      <td>17</td>\n",
       "      <td>1</td>\n",
       "      <td>0</td>\n",
       "      <td>3</td>\n",
       "      <td>10</td>\n",
       "      <td>0.0</td>\n",
       "      <td>1</td>\n",
       "      <td>4</td>\n",
       "      <td>0</td>\n",
       "      <td>8</td>\n",
       "    </tr>\n",
       "    <tr>\n",
       "      <th>207451</th>\n",
       "      <td>9</td>\n",
       "      <td>9</td>\n",
       "      <td>1</td>\n",
       "      <td>23</td>\n",
       "      <td>2</td>\n",
       "      <td>0</td>\n",
       "      <td>2</td>\n",
       "      <td>2</td>\n",
       "      <td>0.0</td>\n",
       "      <td>1</td>\n",
       "      <td>6</td>\n",
       "      <td>1</td>\n",
       "      <td>8</td>\n",
       "    </tr>\n",
       "  </tbody>\n",
       "</table>\n",
       "</div>"
      ],
      "text/plain": [
       "        STATE  MONTH  DAY  HOUR  PERSONS  MAN_COLL  LGT_COND  WEATHER  \\\n",
       "91889       9     11   30    18        5         0         2        1   \n",
       "181716     26     10   28     7        2         0         2        2   \n",
       "236380     51     12    7    20        2         0         3        1   \n",
       "332805     44     12    9    17        1         0         3       10   \n",
       "207451      9      9    1    23        2         0         2        2   \n",
       "\n",
       "        SCH_BUS  FATALS  DAY_WEEK  DRUNK_DR  HARM_EV  \n",
       "91889       0.0       1         7         0        8  \n",
       "181716      0.0       1         7         0        8  \n",
       "236380      0.0       1         5         0        8  \n",
       "332805      0.0       1         4         0        8  \n",
       "207451      0.0       1         6         1        8  "
      ]
     },
     "execution_count": 16,
     "metadata": {},
     "output_type": "execute_result"
    }
   ],
   "source": [
    "hw1_all_df = pd.DataFrame()\n",
    "for i in range(1975, 2021, 5):\n",
    "    df = pd.read_csv(f\"accident_all_years/{i}_accident.csv\", encoding = 'ISO-8859-1')\n",
    "    hw1_all_df = pd.concat([hw1_all_df, df]).reset_index(drop=True)\n",
    "selected_df = hw1_all_df.loc[:, [\"STATE\",\"STATENAME\" ,'MONTH', 'DAY', 'HOUR', 'PERSONS', 'MAN_COLL', 'LGT_COND', 'WEATHER', \n",
    "                                'SCH_BUS', 'FATALS', 'DAY_WEEK', 'DRUNK_DR',\"HARM_EV\"]]\n",
    "\n",
    "selected_df=selected_df[selected_df[\"STATENAME\"]!=\"Kansas\"]\n",
    "selected_df.drop(\"STATENAME\",inplace=True,axis=1)\n",
    "selected_df=selected_df[selected_df[\"HARM_EV\"]==8]\n",
    "selected_df.dropna(inplace=True)\n",
    "selected_df=selected_df.sample(n=5000)\n",
    "selected_df.head()"
   ]
  },
  {
   "cell_type": "markdown",
   "id": "f8d80c0b",
   "metadata": {},
   "source": [
    "#### § Task: (Perform ad hoc K-Means clustering)"
   ]
  },
  {
   "cell_type": "code",
   "execution_count": 17,
   "id": "644c53ad",
   "metadata": {},
   "outputs": [],
   "source": [
    "from sklearn.preprocessing import StandardScaler\n",
    "sc=StandardScaler()\n",
    "new_scaled_data=sc.fit_transform(selected_df)"
   ]
  },
  {
   "cell_type": "code",
   "execution_count": 18,
   "id": "eb2da3aa",
   "metadata": {},
   "outputs": [
    {
     "name": "stdout",
     "output_type": "stream",
     "text": [
      "Centroids of cluster:[[-2.88909679e-02  3.26640948e-02  4.34080107e-02 -7.85170896e-02\n",
      "   3.78677648e-01  1.08556418e-01  1.71443839e-01 -1.20574308e-01\n",
      "  -5.66592700e-02  6.29009570e-01  4.09837661e-02  2.13104462e+00\n",
      "   0.00000000e+00]\n",
      " [-8.80487653e-01 -3.57863437e-02 -3.47899405e-02  4.22208249e-02\n",
      "  -6.12321603e-02 -2.00040012e-02  3.42636173e-02 -1.02652606e-01\n",
      "  -5.66592700e-02 -1.15909390e-01 -2.43912310e-02 -3.95115020e-01\n",
      "   0.00000000e+00]\n",
      " [ 9.02212396e-01  1.96357672e-02  2.05791845e-02 -1.78428526e-02\n",
      "  -6.18671408e-02 -2.00040012e-02 -1.28646785e-01 -9.25925298e-02\n",
      "  -5.66592700e-02 -1.15909390e-01  1.27561558e-02 -3.95115020e-01\n",
      "   0.00000000e+00]\n",
      " [ 4.58430608e-01  7.86997016e-03  3.28928398e-01 -3.42751491e-01\n",
      "  -8.17685244e-02 -2.00040012e-02 -1.13723776e+00 -1.62802285e-01\n",
      "   1.76493626e+01 -1.15909390e-01 -2.01322038e-01 -3.95115020e-01\n",
      "   0.00000000e+00]\n",
      " [-7.77357468e-02  1.66069951e-01 -1.64581124e-01  2.84500694e-01\n",
      "  -7.11253242e-01 -2.00040012e-02  1.47994236e+00  9.47139707e+00\n",
      "  -5.66592700e-02 -1.15909390e-01 -7.48178608e-02 -2.02230146e-01\n",
      "   0.00000000e+00]]\n",
      "Centroids of cluster:[[-1.09753124e-01  8.47005811e-02 -2.35788603e-02  7.54159609e-02\n",
      "   2.56747108e+00 -2.00040012e-02 -1.17348817e-01 -1.07102544e-01\n",
      "  -5.66592700e-02 -1.15909390e-01  6.74717390e-02 -8.90402201e-02\n",
      "   0.00000000e+00]\n",
      " [ 9.95293462e-01 -6.26995858e-01  2.63147094e-03 -7.71735615e-02\n",
      "  -2.09011050e-01 -2.00040012e-02 -2.07457354e-01 -9.43862073e-02\n",
      "  -5.66592700e-02 -1.15909390e-01 -1.28392253e-02 -3.95115020e-01\n",
      "   0.00000000e+00]\n",
      " [-5.68904931e-02  1.00266829e+00  5.41321775e-02 -5.80614787e-02\n",
      "  -2.73421710e-01 -2.00040012e-02  7.31765843e-02 -9.36229822e-02\n",
      "  -5.66592700e-02 -1.15909390e-01 -1.62286289e-03 -3.95115020e-01\n",
      "   0.00000000e+00]\n",
      " [-2.01828279e-01  1.34085777e-01  1.36521331e-02 -8.09996056e-02\n",
      "   1.19292857e+00 -2.00040012e-02  5.02596036e-03 -1.41969459e-01\n",
      "  -5.66592700e-02  7.50970839e+00 -6.04864931e-02  5.12839765e-01\n",
      "   0.00000000e+00]\n",
      " [ 6.86942560e-01  1.18066357e+00  9.09543553e-01  3.92940204e+00\n",
      "  -5.71595947e-01  4.99899990e+01  6.41163551e+00  2.33021409e-01\n",
      "  -5.66592700e-02 -1.15909390e-01 -5.92180237e-01 -3.95115020e-01\n",
      "   0.00000000e+00]\n",
      " [ 4.58430608e-01  7.86997016e-03  3.28928398e-01 -3.42751491e-01\n",
      "  -8.17685244e-02 -2.00040012e-02 -1.13723776e+00 -1.62802285e-01\n",
      "   1.76493626e+01 -1.15909390e-01 -2.01322038e-01 -3.95115020e-01\n",
      "   0.00000000e+00]\n",
      " [-9.05290148e-01 -7.81318278e-01 -8.90134865e-02 -4.39164306e-02\n",
      "  -2.59049060e-01 -2.00040012e-02 -5.88272910e-02 -1.09417013e-01\n",
      "  -5.66592700e-02 -1.15909390e-01 -1.16687086e-02 -3.95115020e-01\n",
      "   0.00000000e+00]\n",
      " [-1.82349611e-01  6.03831163e-02 -1.69865651e-01  8.01735980e+00\n",
      "  -3.29705862e-01 -2.00040012e-02  1.22178514e+00  8.45875235e-02\n",
      "  -5.66592700e-02 -1.15909390e-01 -4.43106252e-02 -4.01532729e-02\n",
      "   0.00000000e+00]\n",
      " [ 1.13440662e-02  1.49894895e-02  4.34062294e-02 -1.47653336e-01\n",
      "   9.14935711e-02 -2.00040012e-02  1.77178058e-01 -1.21041070e-01\n",
      "  -5.66592700e-02 -1.15909390e-01  3.45168889e-02  2.32864650e+00\n",
      "   0.00000000e+00]\n",
      " [-7.77357468e-02  1.66069951e-01 -1.64581124e-01  2.84500694e-01\n",
      "  -7.11253242e-01 -2.00040012e-02  1.47994236e+00  9.47139707e+00\n",
      "  -5.66592700e-02 -1.15909390e-01 -7.48178608e-02 -2.02230146e-01\n",
      "   0.00000000e+00]]\n",
      "Centroids of cluster:[[-8.28241923e-01 -7.94061554e-01 -1.76833932e-01  1.61723495e-02\n",
      "  -2.29494255e-01 -2.00040012e-02  7.07893517e-02 -1.19848890e-01\n",
      "  -5.66592700e-02 -1.15909390e-01  7.69711136e-01 -3.95115020e-01\n",
      "   0.00000000e+00]\n",
      " [-1.82349611e-01  6.03831163e-02 -1.69865651e-01  8.01735980e+00\n",
      "  -3.29705862e-01 -2.00040012e-02  1.22178514e+00  8.45875235e-02\n",
      "  -5.66592700e-02 -1.15909390e-01 -4.43106252e-02 -4.01532729e-02\n",
      "   0.00000000e+00]\n",
      " [-2.01828279e-01  1.34085777e-01  1.36521331e-02 -8.09996056e-02\n",
      "   1.19292857e+00 -2.00040012e-02  5.02596036e-03 -1.41969459e-01\n",
      "  -5.66592700e-02  7.50970839e+00 -6.04864931e-02  5.12839765e-01\n",
      "   0.00000000e+00]\n",
      " [ 6.86942560e-01  1.18066357e+00  9.09543553e-01  3.92940204e+00\n",
      "  -5.71595947e-01  4.99899990e+01  6.41163551e+00  2.33021409e-01\n",
      "  -5.66592700e-02 -1.15909390e-01 -5.92180237e-01 -3.95115020e-01\n",
      "   0.00000000e+00]\n",
      " [-7.77357468e-02  1.66069951e-01 -1.64581124e-01  2.84500694e-01\n",
      "  -7.11253242e-01 -2.00040012e-02  1.47994236e+00  9.47139707e+00\n",
      "  -5.66592700e-02 -1.15909390e-01 -7.48178608e-02 -2.02230146e-01\n",
      "   0.00000000e+00]\n",
      " [ 9.67915480e-01 -9.47801145e-01  2.41513963e-01 -6.48748001e-02\n",
      "  -2.08231133e-01 -2.00040012e-02 -1.55746480e-01 -9.14143747e-02\n",
      "  -5.66592700e-02 -1.15909390e-01 -1.53260306e-01 -3.95115020e-01\n",
      "   0.00000000e+00]\n",
      " [ 7.34029501e-01  8.27819330e-01 -8.34569213e-01 -3.36687724e-02\n",
      "  -2.07046637e-01 -2.00040012e-02 -2.34493563e-01 -9.00787721e-02\n",
      "  -5.66592700e-02 -1.15909390e-01  2.15261937e-01 -3.95115020e-01\n",
      "   0.00000000e+00]\n",
      " [ 1.06023083e-02  1.39911344e-02  3.90117781e-02 -1.44120429e-01\n",
      "   8.41784620e-02 -2.00040012e-02  1.76868248e-01 -1.21064741e-01\n",
      "  -5.66592700e-02 -1.15909390e-01  3.64392727e-02  2.32916195e+00\n",
      "   0.00000000e+00]\n",
      " [-1.58420797e-01  4.60450559e-02  9.19554435e-02  5.10498610e-02\n",
      "   2.70803734e+00 -2.00040012e-02 -1.42100454e-01 -1.04712119e-01\n",
      "  -5.66592700e-02 -1.15909390e-01  9.24629506e-02 -2.87654216e-02\n",
      "   0.00000000e+00]\n",
      " [-1.26267884e-01  8.38429131e-01  9.85315945e-01 -4.46303161e-02\n",
      "  -2.50313366e-01 -2.00040012e-02  1.45045762e-01 -9.85451923e-02\n",
      "  -5.66592700e-02 -1.15909390e-01  1.39343308e-01 -3.95115020e-01\n",
      "   0.00000000e+00]\n",
      " [-8.25005110e-01 -4.21390427e-02 -4.40491452e-01 -1.62555809e-01\n",
      "  -2.50998288e-01 -2.00040012e-02 -8.24600589e-02 -9.53512632e-02\n",
      "  -5.66592700e-02 -1.15909390e-01 -1.05569446e+00 -3.95115020e-01\n",
      "   0.00000000e+00]\n",
      " [ 4.58430608e-01  7.86997016e-03  3.28928398e-01 -3.42751491e-01\n",
      "  -8.17685244e-02 -2.00040012e-02 -1.13723776e+00 -1.62802285e-01\n",
      "   1.76493626e+01 -1.15909390e-01 -2.01322038e-01 -3.95115020e-01\n",
      "   0.00000000e+00]]\n"
     ]
    }
   ],
   "source": [
    "from sklearn.cluster import KMeans\n",
    "c=[5,10,12]\n",
    "for i in c:\n",
    "    cluster=KMeans(n_clusters=i,init='k-means++')\n",
    "    cluster.fit(new_scaled_data)\n",
    "    print(\"Centroids of cluster:{}\".format(cluster.cluster_centers_))"
   ]
  },
  {
   "cell_type": "markdown",
   "id": "ed16cc59",
   "metadata": {},
   "source": [
    "#### § Task: (Perform elbow analysis to find optimal cluster size)"
   ]
  },
  {
   "cell_type": "code",
   "execution_count": 19,
   "id": "28ddeef5",
   "metadata": {},
   "outputs": [],
   "source": [
    "max_clusters = 15\n",
    "css = [] # within cluster sum of squares\n",
    "for k in range(1,max_clusters):\n",
    "    kmeans = KMeans(n_clusters=k,init='k-means++',max_iter=200, n_init=10, random_state=0)\n",
    "    kmeans.fit(new_scaled_data) # where d is the dataset you have standardized in the first part of this\n",
    "    css.append(kmeans.inertia_)"
   ]
  },
  {
   "cell_type": "code",
   "execution_count": 20,
   "id": "8158bd5b",
   "metadata": {},
   "outputs": [
    {
     "data": {
      "image/png": "[encoded data removed]",
      "text/plain": [
       "<Figure size 432x288 with 1 Axes>"
      ]
     },
     "metadata": {
      "needs_background": "light"
     },
     "output_type": "display_data"
    }
   ],
   "source": [
    "plt.plot(css)\n",
    "plt.xlabel(\"No of clusters\")\n",
    "plt.ylabel(\"WCSS\")\n",
    "plt.title(\"ELBOW method\")\n",
    "plt.show()"
   ]
  },
  {
   "cell_type": "markdown",
   "id": "c31e85d4",
   "metadata": {},
   "source": [
    "#### § Task: (Find out where Kansas fits in)"
   ]
  },
  {
   "cell_type": "code",
   "execution_count": 21,
   "id": "7f3ffe19",
   "metadata": {},
   "outputs": [],
   "source": [
    "cluster1=KMeans(n_clusters=6,init='k-means++')\n",
    "cluster1.fit(new_scaled_data)\n",
    "label=cluster1.predict(new_scaled_data)"
   ]
  },
  {
   "cell_type": "code",
   "execution_count": 22,
   "id": "dd588ca4",
   "metadata": {},
   "outputs": [],
   "source": [
    "state=[]\n",
    "fatal=[]\n",
    "for i in range(len(new_scaled_data)):\n",
    "    fatal.append(new_scaled_data[i][9])\n",
    "    state.append(new_scaled_data[i][0])"
   ]
  },
  {
   "cell_type": "code",
   "execution_count": 23,
   "id": "aaa74a06",
   "metadata": {},
   "outputs": [
    {
     "name": "stderr",
     "output_type": "stream",
     "text": [
      "C:\\Users\\VIPIN JANGHU\\anaconda3\\lib\\site-packages\\seaborn\\_decorators.py:36: FutureWarning: Pass the following variables as keyword args: x, y. From version 0.12, the only valid positional argument will be `data`, and passing other arguments without an explicit keyword will result in an error or misinterpretation.\n",
      "  warnings.warn(\n"
     ]
    },
    {
     "data": {
      "text/plain": [
       "<AxesSubplot:>"
      ]
     },
     "execution_count": 23,
     "metadata": {},
     "output_type": "execute_result"
    },
    {
     "data": {
      "image/png": "[encoded data removed]",
      "text/plain": [
       "<Figure size 432x288 with 1 Axes>"
      ]
     },
     "metadata": {
      "needs_background": "light"
     },
     "output_type": "display_data"
    }
   ],
   "source": [
    "sns.scatterplot(state,fatal,hue=label)"
   ]
  },
  {
   "cell_type": "markdown",
   "id": "360995e6",
   "metadata": {},
   "source": [
    "* According to what we found using our optimal K value using elbow method which is 6 in our case it seems that Kansas is going to fit in cluster has label 0"
   ]
  },
  {
   "cell_type": "markdown",
   "id": "8b47e541",
   "metadata": {},
   "source": [
    "#### § Task: (Perform Agglomorative Clustering)"
   ]
  },
  {
   "cell_type": "code",
   "execution_count": 24,
   "id": "853c3461",
   "metadata": {},
   "outputs": [],
   "source": [
    "def plot_dendrogram(model, **kwargs):\n",
    "    # Create linkage matrix and then plot the dendrogram\n",
    "\n",
    "    # create the counts of samples under each node\n",
    "    counts = np.zeros(model.children_.shape[0])\n",
    "    n_samples = len(model.labels_)\n",
    "    for i, merge in enumerate(model.children_):\n",
    "        current_count = 0\n",
    "        for child_idx in merge:\n",
    "            if child_idx < n_samples:\n",
    "                current_count += 1  # leaf node\n",
    "            else:\n",
    "                current_count += counts[child_idx - n_samples]\n",
    "        counts[i] = current_count\n",
    "\n",
    "    linkage_matrix = np.column_stack(\n",
    "        [model.children_, model.distances_, counts]\n",
    "    ).astype(float)\n",
    "\n",
    "    # Plot the corresponding dendrogram\n",
    "    dendrogram(linkage_matrix, **kwargs)"
   ]
  },
  {
   "cell_type": "code",
   "execution_count": 25,
   "id": "3b6dec0c",
   "metadata": {},
   "outputs": [],
   "source": [
    "from sklearn.cluster import AgglomerativeClustering\n",
    "agc=AgglomerativeClustering(n_clusters=5)\n",
    "agc=agc.fit(new_scaled_data)"
   ]
  },
  {
   "cell_type": "code",
   "execution_count": 26,
   "id": "6205afb4",
   "metadata": {},
   "outputs": [
    {
     "data": {
      "image/png": "[encoded data removed]",
      "text/plain": [
       "<Figure size 432x288 with 1 Axes>"
      ]
     },
     "metadata": {
      "needs_background": "light"
     },
     "output_type": "display_data"
    }
   ],
   "source": [
    "from scipy.cluster.hierarchy import dendrogram\n",
    "\n",
    "from sklearn.cluster import AgglomerativeClustering\n",
    "\n",
    "\n",
    "def plot_dendrogram(model, **kwargs):\n",
    "    # Create linkage matrix and then plot the dendrogram\n",
    "\n",
    "    # create the counts of samples under each node\n",
    "    counts = np.zeros(model.children_.shape[0])\n",
    "    n_samples = len(model.labels_)\n",
    "    for i, merge in enumerate(model.children_):\n",
    "        current_count = 0\n",
    "        for child_idx in merge:\n",
    "            if child_idx < n_samples:\n",
    "                current_count += 1  # leaf node\n",
    "            else:\n",
    "                current_count += counts[child_idx - n_samples]\n",
    "        counts[i] = current_count\n",
    "\n",
    "    linkage_matrix = np.column_stack(\n",
    "        [model.children_, model.distances_, counts]\n",
    "    ).astype(float)\n",
    "\n",
    "    # Plot the corresponding dendrogram\n",
    "    dendrogram(linkage_matrix, **kwargs)\n",
    "\n",
    "\n",
    "\n",
    "model = AgglomerativeClustering(distance_threshold=0, n_clusters=None)\n",
    "\n",
    "model = model.fit(new_scaled_data)\n",
    "plt.title(\"Hierarchical Clustering Dendrogram\")\n",
    "plot_dendrogram(model, truncate_mode=\"level\", p=3)\n",
    "plt.xlabel(\"Number of points in node (or index of point if no parenthesis).\")\n",
    "plt.show()"
   ]
  }
 ],
 "metadata": {
  "kernelspec": {
   "display_name": "Python 3 (ipykernel)",
   "language": "python",
   "name": "python3"
  },
  "language_info": {
   "codemirror_mode": {
    "name": "ipython",
    "version": 3
   },
   "file_extension": ".py",
   "mimetype": "text/x-python",
   "name": "python",
   "nbconvert_exporter": "python",
   "pygments_lexer": "ipython3",
   "version": "3.9.12"
  }
 },
 "nbformat": 4,
 "nbformat_minor": 5
}
